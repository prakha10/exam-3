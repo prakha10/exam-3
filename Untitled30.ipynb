{
  "nbformat": 4,
  "nbformat_minor": 0,
  "metadata": {
    "colab": {
      "name": "Untitled30.ipynb",
      "provenance": [],
      "authorship_tag": "ABX9TyOpsv+wu2aF7lfcva6Jj7c4",
      "include_colab_link": true
    },
    "kernelspec": {
      "name": "python3",
      "display_name": "Python 3"
    },
    "language_info": {
      "name": "python"
    }
  },
  "cells": [
    {
      "cell_type": "markdown",
      "metadata": {
        "id": "view-in-github",
        "colab_type": "text"
      },
      "source": [
        "<a href=\"https://colab.research.google.com/github/prakha10/exam-3/blob/main/Untitled30.ipynb\" target=\"_parent\"><img src=\"https://colab.research.google.com/assets/colab-badge.svg\" alt=\"Open In Colab\"/></a>"
      ]
    },
    {
      "cell_type": "markdown",
      "source": [
        "### Title: Exam 3\n",
        "### Student Name: Pratim Khadka \n",
        "### Id : 267947"
      ],
      "metadata": {
        "id": "m5BXyPB3G_qO"
      }
    },
    {
      "cell_type": "code",
      "source": [
        "import pandas as pd\n",
        "import matplotlib.pyplot as plt\n",
        "import seaborn as sns"
      ],
      "metadata": {
        "id": "efAs0DNTNRs2"
      },
      "execution_count": 6,
      "outputs": []
    },
    {
      "cell_type": "markdown",
      "source": [
        "#Question 1."
      ],
      "metadata": {
        "id": "ihcukwnyNWaV"
      }
    },
    {
      "cell_type": "code",
      "source": [
        "df = pd.read_csv(\"https://raw.githubusercontent.com/nurfnick/Data_Viz/main/worldCupPlayer.csv\")\n",
        "df.head()"
      ],
      "metadata": {
        "colab": {
          "base_uri": "https://localhost:8080/",
          "height": 206
        },
        "id": "FmNxFm4BNegp",
        "outputId": "b7af6369-d682-431f-d1d3-3ffd31277e99"
      },
      "execution_count": 8,
      "outputs": [
        {
          "output_type": "execute_result",
          "data": {
            "text/plain": [
              "   Unnamed: 0  Rank               player           club  age   Apps  Mins  \\\n",
              "0           0     1         Hakim Ziyech           Ajax   25     34  3043   \n",
              "1           2     2  Alireza Jahanbakhsh     AZ Alkmaar   24     33  2840   \n",
              "2           4     3       Hirving Lozano  PSV Eindhoven   22     29  2350   \n",
              "3           6    11         Lasse Schone           Ajax   32  27(3)  2350   \n",
              "4          10    25       Santiago Arias  PSV Eindhoven   26     30  2664   \n",
              "\n",
              "   Goals  Assists  Yel  Red  SpG    PS AerialsWon  MotM  Rating nationality  \n",
              "0      9       15    4    0  4.9  75.4        0.2     9    8.21     Morocco  \n",
              "1     21       12    3    0  4.3  73.4        0.7    14    8.20        Iran  \n",
              "2     17        8    4    2  3.4  75.3        0.6     8    7.90      Mexico  \n",
              "3     10        3    6    0  1.9  87.0        1.9     2    7.45     Denmark  \n",
              "4      3        6    5    0  1.5  82.3          1     2    7.25    Colombia  "
            ],
            "text/html": [
              "\n",
              "  <div id=\"df-4f859182-874f-4cb8-834c-d8a1c71bcee8\">\n",
              "    <div class=\"colab-df-container\">\n",
              "      <div>\n",
              "<style scoped>\n",
              "    .dataframe tbody tr th:only-of-type {\n",
              "        vertical-align: middle;\n",
              "    }\n",
              "\n",
              "    .dataframe tbody tr th {\n",
              "        vertical-align: top;\n",
              "    }\n",
              "\n",
              "    .dataframe thead th {\n",
              "        text-align: right;\n",
              "    }\n",
              "</style>\n",
              "<table border=\"1\" class=\"dataframe\">\n",
              "  <thead>\n",
              "    <tr style=\"text-align: right;\">\n",
              "      <th></th>\n",
              "      <th>Unnamed: 0</th>\n",
              "      <th>Rank</th>\n",
              "      <th>player</th>\n",
              "      <th>club</th>\n",
              "      <th>age</th>\n",
              "      <th>Apps</th>\n",
              "      <th>Mins</th>\n",
              "      <th>Goals</th>\n",
              "      <th>Assists</th>\n",
              "      <th>Yel</th>\n",
              "      <th>Red</th>\n",
              "      <th>SpG</th>\n",
              "      <th>PS</th>\n",
              "      <th>AerialsWon</th>\n",
              "      <th>MotM</th>\n",
              "      <th>Rating</th>\n",
              "      <th>nationality</th>\n",
              "    </tr>\n",
              "  </thead>\n",
              "  <tbody>\n",
              "    <tr>\n",
              "      <th>0</th>\n",
              "      <td>0</td>\n",
              "      <td>1</td>\n",
              "      <td>Hakim Ziyech</td>\n",
              "      <td>Ajax</td>\n",
              "      <td>25</td>\n",
              "      <td>34</td>\n",
              "      <td>3043</td>\n",
              "      <td>9</td>\n",
              "      <td>15</td>\n",
              "      <td>4</td>\n",
              "      <td>0</td>\n",
              "      <td>4.9</td>\n",
              "      <td>75.4</td>\n",
              "      <td>0.2</td>\n",
              "      <td>9</td>\n",
              "      <td>8.21</td>\n",
              "      <td>Morocco</td>\n",
              "    </tr>\n",
              "    <tr>\n",
              "      <th>1</th>\n",
              "      <td>2</td>\n",
              "      <td>2</td>\n",
              "      <td>Alireza Jahanbakhsh</td>\n",
              "      <td>AZ Alkmaar</td>\n",
              "      <td>24</td>\n",
              "      <td>33</td>\n",
              "      <td>2840</td>\n",
              "      <td>21</td>\n",
              "      <td>12</td>\n",
              "      <td>3</td>\n",
              "      <td>0</td>\n",
              "      <td>4.3</td>\n",
              "      <td>73.4</td>\n",
              "      <td>0.7</td>\n",
              "      <td>14</td>\n",
              "      <td>8.20</td>\n",
              "      <td>Iran</td>\n",
              "    </tr>\n",
              "    <tr>\n",
              "      <th>2</th>\n",
              "      <td>4</td>\n",
              "      <td>3</td>\n",
              "      <td>Hirving Lozano</td>\n",
              "      <td>PSV Eindhoven</td>\n",
              "      <td>22</td>\n",
              "      <td>29</td>\n",
              "      <td>2350</td>\n",
              "      <td>17</td>\n",
              "      <td>8</td>\n",
              "      <td>4</td>\n",
              "      <td>2</td>\n",
              "      <td>3.4</td>\n",
              "      <td>75.3</td>\n",
              "      <td>0.6</td>\n",
              "      <td>8</td>\n",
              "      <td>7.90</td>\n",
              "      <td>Mexico</td>\n",
              "    </tr>\n",
              "    <tr>\n",
              "      <th>3</th>\n",
              "      <td>6</td>\n",
              "      <td>11</td>\n",
              "      <td>Lasse Schone</td>\n",
              "      <td>Ajax</td>\n",
              "      <td>32</td>\n",
              "      <td>27(3)</td>\n",
              "      <td>2350</td>\n",
              "      <td>10</td>\n",
              "      <td>3</td>\n",
              "      <td>6</td>\n",
              "      <td>0</td>\n",
              "      <td>1.9</td>\n",
              "      <td>87.0</td>\n",
              "      <td>1.9</td>\n",
              "      <td>2</td>\n",
              "      <td>7.45</td>\n",
              "      <td>Denmark</td>\n",
              "    </tr>\n",
              "    <tr>\n",
              "      <th>4</th>\n",
              "      <td>10</td>\n",
              "      <td>25</td>\n",
              "      <td>Santiago Arias</td>\n",
              "      <td>PSV Eindhoven</td>\n",
              "      <td>26</td>\n",
              "      <td>30</td>\n",
              "      <td>2664</td>\n",
              "      <td>3</td>\n",
              "      <td>6</td>\n",
              "      <td>5</td>\n",
              "      <td>0</td>\n",
              "      <td>1.5</td>\n",
              "      <td>82.3</td>\n",
              "      <td>1</td>\n",
              "      <td>2</td>\n",
              "      <td>7.25</td>\n",
              "      <td>Colombia</td>\n",
              "    </tr>\n",
              "  </tbody>\n",
              "</table>\n",
              "</div>\n",
              "      <button class=\"colab-df-convert\" onclick=\"convertToInteractive('df-4f859182-874f-4cb8-834c-d8a1c71bcee8')\"\n",
              "              title=\"Convert this dataframe to an interactive table.\"\n",
              "              style=\"display:none;\">\n",
              "        \n",
              "  <svg xmlns=\"http://www.w3.org/2000/svg\" height=\"24px\"viewBox=\"0 0 24 24\"\n",
              "       width=\"24px\">\n",
              "    <path d=\"M0 0h24v24H0V0z\" fill=\"none\"/>\n",
              "    <path d=\"M18.56 5.44l.94 2.06.94-2.06 2.06-.94-2.06-.94-.94-2.06-.94 2.06-2.06.94zm-11 1L8.5 8.5l.94-2.06 2.06-.94-2.06-.94L8.5 2.5l-.94 2.06-2.06.94zm10 10l.94 2.06.94-2.06 2.06-.94-2.06-.94-.94-2.06-.94 2.06-2.06.94z\"/><path d=\"M17.41 7.96l-1.37-1.37c-.4-.4-.92-.59-1.43-.59-.52 0-1.04.2-1.43.59L10.3 9.45l-7.72 7.72c-.78.78-.78 2.05 0 2.83L4 21.41c.39.39.9.59 1.41.59.51 0 1.02-.2 1.41-.59l7.78-7.78 2.81-2.81c.8-.78.8-2.07 0-2.86zM5.41 20L4 18.59l7.72-7.72 1.47 1.35L5.41 20z\"/>\n",
              "  </svg>\n",
              "      </button>\n",
              "      \n",
              "  <style>\n",
              "    .colab-df-container {\n",
              "      display:flex;\n",
              "      flex-wrap:wrap;\n",
              "      gap: 12px;\n",
              "    }\n",
              "\n",
              "    .colab-df-convert {\n",
              "      background-color: #E8F0FE;\n",
              "      border: none;\n",
              "      border-radius: 50%;\n",
              "      cursor: pointer;\n",
              "      display: none;\n",
              "      fill: #1967D2;\n",
              "      height: 32px;\n",
              "      padding: 0 0 0 0;\n",
              "      width: 32px;\n",
              "    }\n",
              "\n",
              "    .colab-df-convert:hover {\n",
              "      background-color: #E2EBFA;\n",
              "      box-shadow: 0px 1px 2px rgba(60, 64, 67, 0.3), 0px 1px 3px 1px rgba(60, 64, 67, 0.15);\n",
              "      fill: #174EA6;\n",
              "    }\n",
              "\n",
              "    [theme=dark] .colab-df-convert {\n",
              "      background-color: #3B4455;\n",
              "      fill: #D2E3FC;\n",
              "    }\n",
              "\n",
              "    [theme=dark] .colab-df-convert:hover {\n",
              "      background-color: #434B5C;\n",
              "      box-shadow: 0px 1px 3px 1px rgba(0, 0, 0, 0.15);\n",
              "      filter: drop-shadow(0px 1px 2px rgba(0, 0, 0, 0.3));\n",
              "      fill: #FFFFFF;\n",
              "    }\n",
              "  </style>\n",
              "\n",
              "      <script>\n",
              "        const buttonEl =\n",
              "          document.querySelector('#df-4f859182-874f-4cb8-834c-d8a1c71bcee8 button.colab-df-convert');\n",
              "        buttonEl.style.display =\n",
              "          google.colab.kernel.accessAllowed ? 'block' : 'none';\n",
              "\n",
              "        async function convertToInteractive(key) {\n",
              "          const element = document.querySelector('#df-4f859182-874f-4cb8-834c-d8a1c71bcee8');\n",
              "          const dataTable =\n",
              "            await google.colab.kernel.invokeFunction('convertToInteractive',\n",
              "                                                     [key], {});\n",
              "          if (!dataTable) return;\n",
              "\n",
              "          const docLinkHtml = 'Like what you see? Visit the ' +\n",
              "            '<a target=\"_blank\" href=https://colab.research.google.com/notebooks/data_table.ipynb>data table notebook</a>'\n",
              "            + ' to learn more about interactive tables.';\n",
              "          element.innerHTML = '';\n",
              "          dataTable['output_type'] = 'display_data';\n",
              "          await google.colab.output.renderOutput(dataTable, element);\n",
              "          const docLink = document.createElement('div');\n",
              "          docLink.innerHTML = docLinkHtml;\n",
              "          element.appendChild(docLink);\n",
              "        }\n",
              "      </script>\n",
              "    </div>\n",
              "  </div>\n",
              "  "
            ]
          },
          "metadata": {},
          "execution_count": 8
        }
      ]
    },
    {
      "cell_type": "markdown",
      "source": [
        "#a) Favourite Club is \"Liverpool\""
      ],
      "metadata": {
        "id": "f-nDB-_aOALP"
      }
    },
    {
      "cell_type": "code",
      "source": [
        "![Liverpool.png](attachment:liverpool.png)"
      ],
      "metadata": {
        "colab": {
          "base_uri": "https://localhost:8080/"
        },
        "id": "Fyf24Fg4OIa1",
        "outputId": "fec4e797-14e8-4e8a-8610-23b4b94d62ba"
      },
      "execution_count": 12,
      "outputs": [
        {
          "output_type": "stream",
          "name": "stdout",
          "text": [
            "/bin/bash: -c: line 0: syntax error near unexpected token `attachment:liverpool.png'\n",
            "/bin/bash: -c: line 0: `[Liverpool.png](attachment:liverpool.png)'\n"
          ]
        }
      ]
    },
    {
      "cell_type": "markdown",
      "source": [
        "### b) Table about favourite Club - Liverpool"
      ],
      "metadata": {
        "id": "Bdyp08e0OWGx"
      }
    },
    {
      "cell_type": "code",
      "source": [
        "\n",
        "df_ms = df [df['club']=='Liverpool']\n",
        "df_ms.head(20)\n",
        "\n"
      ],
      "metadata": {
        "colab": {
          "base_uri": "https://localhost:8080/",
          "height": 457
        },
        "id": "Rl_JcM6-ORm_",
        "outputId": "2aeed6b8-4ab1-49a0-b6ff-43f50ce5a078"
      },
      "execution_count": 11,
      "outputs": [
        {
          "output_type": "execute_result",
          "data": {
            "text/plain": [
              "     Unnamed: 0  Rank                  player       club  age   Apps  Mins  \\\n",
              "410         790     3           Mohamed Salah  Liverpool   25  34(2)  2922   \n",
              "411         791     8           Mohamed Salah  Liverpool   25  12(1)   931   \n",
              "424         810    12         Roberto Firmino  Liverpool   26  32(5)  2778   \n",
              "425         812     7         Roberto Firmino  Liverpool   26     13  1056   \n",
              "428         817    20              Sadio Mane  Liverpool   26  28(1)  2207   \n",
              "429         819     5              Sadio Mane  Liverpool   26     11   940   \n",
              "457         874    63  Trent Alexander-Arnold  Liverpool   19  18(1)  1576   \n",
              "458         876   102  Trent Alexander-Arnold  Liverpool   19   9(1)   821   \n",
              "460         880    68            Dejan Lovren  Liverpool   28  24(5)  2125   \n",
              "461         882   132            Dejan Lovren  Liverpool   28     12  1050   \n",
              "466         892    77        Jordan Henderson  Liverpool   27  25(2)  2173   \n",
              "467         894   177        Jordan Henderson  Liverpool   27   9(1)   868   \n",
              "512         984   261          Simon Mignolet  Liverpool   30     19  1710   \n",
              "\n",
              "     Goals  Assists  Yel  Red  SpG    PS AerialsWon  MotM  Rating nationality  \n",
              "410     32       10    1    0    4  76.7        0.4     8    7.69       Egypt  \n",
              "411     10        4    0    0  3.3  74.7        0.2     1    7.97       Egypt  \n",
              "424     15        7    1    0  2.3  72.6        1.2     3    7.39      Brazil  \n",
              "425     10        7    2    0  3.2  74.6        2.4     1    7.98      Brazil  \n",
              "428     10        7    3    1  2.4  80.4        0.9     1    7.27     Senegal  \n",
              "429     10        1    2    0  2.8  77.2        1.5     4    8.12     Senegal  \n",
              "457      1        1    3    0  0.6  77.3        0.3     0    7.02     England  \n",
              "458      1        1    2    0  0.8  77.0        0.2     0    7.07     England  \n",
              "460      2        1    4    0  0.5  88.5        3.6     2    6.99     Croatia  \n",
              "461      0        1    2    0  0.5  84.1        3.1     0    7.00     Croatia  \n",
              "466      1        1    1    0  0.6  84.4          1     0    6.95     England  \n",
              "467      0        0    3    0  0.2  82.7        0.8     0    6.86     England  \n",
              "512      0        0    3    0    -  69.5        0.2     0    6.49     Belgium  "
            ],
            "text/html": [
              "\n",
              "  <div id=\"df-0a1ad625-24eb-4c74-b60e-d9f30a66739c\">\n",
              "    <div class=\"colab-df-container\">\n",
              "      <div>\n",
              "<style scoped>\n",
              "    .dataframe tbody tr th:only-of-type {\n",
              "        vertical-align: middle;\n",
              "    }\n",
              "\n",
              "    .dataframe tbody tr th {\n",
              "        vertical-align: top;\n",
              "    }\n",
              "\n",
              "    .dataframe thead th {\n",
              "        text-align: right;\n",
              "    }\n",
              "</style>\n",
              "<table border=\"1\" class=\"dataframe\">\n",
              "  <thead>\n",
              "    <tr style=\"text-align: right;\">\n",
              "      <th></th>\n",
              "      <th>Unnamed: 0</th>\n",
              "      <th>Rank</th>\n",
              "      <th>player</th>\n",
              "      <th>club</th>\n",
              "      <th>age</th>\n",
              "      <th>Apps</th>\n",
              "      <th>Mins</th>\n",
              "      <th>Goals</th>\n",
              "      <th>Assists</th>\n",
              "      <th>Yel</th>\n",
              "      <th>Red</th>\n",
              "      <th>SpG</th>\n",
              "      <th>PS</th>\n",
              "      <th>AerialsWon</th>\n",
              "      <th>MotM</th>\n",
              "      <th>Rating</th>\n",
              "      <th>nationality</th>\n",
              "    </tr>\n",
              "  </thead>\n",
              "  <tbody>\n",
              "    <tr>\n",
              "      <th>410</th>\n",
              "      <td>790</td>\n",
              "      <td>3</td>\n",
              "      <td>Mohamed Salah</td>\n",
              "      <td>Liverpool</td>\n",
              "      <td>25</td>\n",
              "      <td>34(2)</td>\n",
              "      <td>2922</td>\n",
              "      <td>32</td>\n",
              "      <td>10</td>\n",
              "      <td>1</td>\n",
              "      <td>0</td>\n",
              "      <td>4</td>\n",
              "      <td>76.7</td>\n",
              "      <td>0.4</td>\n",
              "      <td>8</td>\n",
              "      <td>7.69</td>\n",
              "      <td>Egypt</td>\n",
              "    </tr>\n",
              "    <tr>\n",
              "      <th>411</th>\n",
              "      <td>791</td>\n",
              "      <td>8</td>\n",
              "      <td>Mohamed Salah</td>\n",
              "      <td>Liverpool</td>\n",
              "      <td>25</td>\n",
              "      <td>12(1)</td>\n",
              "      <td>931</td>\n",
              "      <td>10</td>\n",
              "      <td>4</td>\n",
              "      <td>0</td>\n",
              "      <td>0</td>\n",
              "      <td>3.3</td>\n",
              "      <td>74.7</td>\n",
              "      <td>0.2</td>\n",
              "      <td>1</td>\n",
              "      <td>7.97</td>\n",
              "      <td>Egypt</td>\n",
              "    </tr>\n",
              "    <tr>\n",
              "      <th>424</th>\n",
              "      <td>810</td>\n",
              "      <td>12</td>\n",
              "      <td>Roberto Firmino</td>\n",
              "      <td>Liverpool</td>\n",
              "      <td>26</td>\n",
              "      <td>32(5)</td>\n",
              "      <td>2778</td>\n",
              "      <td>15</td>\n",
              "      <td>7</td>\n",
              "      <td>1</td>\n",
              "      <td>0</td>\n",
              "      <td>2.3</td>\n",
              "      <td>72.6</td>\n",
              "      <td>1.2</td>\n",
              "      <td>3</td>\n",
              "      <td>7.39</td>\n",
              "      <td>Brazil</td>\n",
              "    </tr>\n",
              "    <tr>\n",
              "      <th>425</th>\n",
              "      <td>812</td>\n",
              "      <td>7</td>\n",
              "      <td>Roberto Firmino</td>\n",
              "      <td>Liverpool</td>\n",
              "      <td>26</td>\n",
              "      <td>13</td>\n",
              "      <td>1056</td>\n",
              "      <td>10</td>\n",
              "      <td>7</td>\n",
              "      <td>2</td>\n",
              "      <td>0</td>\n",
              "      <td>3.2</td>\n",
              "      <td>74.6</td>\n",
              "      <td>2.4</td>\n",
              "      <td>1</td>\n",
              "      <td>7.98</td>\n",
              "      <td>Brazil</td>\n",
              "    </tr>\n",
              "    <tr>\n",
              "      <th>428</th>\n",
              "      <td>817</td>\n",
              "      <td>20</td>\n",
              "      <td>Sadio Mane</td>\n",
              "      <td>Liverpool</td>\n",
              "      <td>26</td>\n",
              "      <td>28(1)</td>\n",
              "      <td>2207</td>\n",
              "      <td>10</td>\n",
              "      <td>7</td>\n",
              "      <td>3</td>\n",
              "      <td>1</td>\n",
              "      <td>2.4</td>\n",
              "      <td>80.4</td>\n",
              "      <td>0.9</td>\n",
              "      <td>1</td>\n",
              "      <td>7.27</td>\n",
              "      <td>Senegal</td>\n",
              "    </tr>\n",
              "    <tr>\n",
              "      <th>429</th>\n",
              "      <td>819</td>\n",
              "      <td>5</td>\n",
              "      <td>Sadio Mane</td>\n",
              "      <td>Liverpool</td>\n",
              "      <td>26</td>\n",
              "      <td>11</td>\n",
              "      <td>940</td>\n",
              "      <td>10</td>\n",
              "      <td>1</td>\n",
              "      <td>2</td>\n",
              "      <td>0</td>\n",
              "      <td>2.8</td>\n",
              "      <td>77.2</td>\n",
              "      <td>1.5</td>\n",
              "      <td>4</td>\n",
              "      <td>8.12</td>\n",
              "      <td>Senegal</td>\n",
              "    </tr>\n",
              "    <tr>\n",
              "      <th>457</th>\n",
              "      <td>874</td>\n",
              "      <td>63</td>\n",
              "      <td>Trent Alexander-Arnold</td>\n",
              "      <td>Liverpool</td>\n",
              "      <td>19</td>\n",
              "      <td>18(1)</td>\n",
              "      <td>1576</td>\n",
              "      <td>1</td>\n",
              "      <td>1</td>\n",
              "      <td>3</td>\n",
              "      <td>0</td>\n",
              "      <td>0.6</td>\n",
              "      <td>77.3</td>\n",
              "      <td>0.3</td>\n",
              "      <td>0</td>\n",
              "      <td>7.02</td>\n",
              "      <td>England</td>\n",
              "    </tr>\n",
              "    <tr>\n",
              "      <th>458</th>\n",
              "      <td>876</td>\n",
              "      <td>102</td>\n",
              "      <td>Trent Alexander-Arnold</td>\n",
              "      <td>Liverpool</td>\n",
              "      <td>19</td>\n",
              "      <td>9(1)</td>\n",
              "      <td>821</td>\n",
              "      <td>1</td>\n",
              "      <td>1</td>\n",
              "      <td>2</td>\n",
              "      <td>0</td>\n",
              "      <td>0.8</td>\n",
              "      <td>77.0</td>\n",
              "      <td>0.2</td>\n",
              "      <td>0</td>\n",
              "      <td>7.07</td>\n",
              "      <td>England</td>\n",
              "    </tr>\n",
              "    <tr>\n",
              "      <th>460</th>\n",
              "      <td>880</td>\n",
              "      <td>68</td>\n",
              "      <td>Dejan Lovren</td>\n",
              "      <td>Liverpool</td>\n",
              "      <td>28</td>\n",
              "      <td>24(5)</td>\n",
              "      <td>2125</td>\n",
              "      <td>2</td>\n",
              "      <td>1</td>\n",
              "      <td>4</td>\n",
              "      <td>0</td>\n",
              "      <td>0.5</td>\n",
              "      <td>88.5</td>\n",
              "      <td>3.6</td>\n",
              "      <td>2</td>\n",
              "      <td>6.99</td>\n",
              "      <td>Croatia</td>\n",
              "    </tr>\n",
              "    <tr>\n",
              "      <th>461</th>\n",
              "      <td>882</td>\n",
              "      <td>132</td>\n",
              "      <td>Dejan Lovren</td>\n",
              "      <td>Liverpool</td>\n",
              "      <td>28</td>\n",
              "      <td>12</td>\n",
              "      <td>1050</td>\n",
              "      <td>0</td>\n",
              "      <td>1</td>\n",
              "      <td>2</td>\n",
              "      <td>0</td>\n",
              "      <td>0.5</td>\n",
              "      <td>84.1</td>\n",
              "      <td>3.1</td>\n",
              "      <td>0</td>\n",
              "      <td>7.00</td>\n",
              "      <td>Croatia</td>\n",
              "    </tr>\n",
              "    <tr>\n",
              "      <th>466</th>\n",
              "      <td>892</td>\n",
              "      <td>77</td>\n",
              "      <td>Jordan Henderson</td>\n",
              "      <td>Liverpool</td>\n",
              "      <td>27</td>\n",
              "      <td>25(2)</td>\n",
              "      <td>2173</td>\n",
              "      <td>1</td>\n",
              "      <td>1</td>\n",
              "      <td>1</td>\n",
              "      <td>0</td>\n",
              "      <td>0.6</td>\n",
              "      <td>84.4</td>\n",
              "      <td>1</td>\n",
              "      <td>0</td>\n",
              "      <td>6.95</td>\n",
              "      <td>England</td>\n",
              "    </tr>\n",
              "    <tr>\n",
              "      <th>467</th>\n",
              "      <td>894</td>\n",
              "      <td>177</td>\n",
              "      <td>Jordan Henderson</td>\n",
              "      <td>Liverpool</td>\n",
              "      <td>27</td>\n",
              "      <td>9(1)</td>\n",
              "      <td>868</td>\n",
              "      <td>0</td>\n",
              "      <td>0</td>\n",
              "      <td>3</td>\n",
              "      <td>0</td>\n",
              "      <td>0.2</td>\n",
              "      <td>82.7</td>\n",
              "      <td>0.8</td>\n",
              "      <td>0</td>\n",
              "      <td>6.86</td>\n",
              "      <td>England</td>\n",
              "    </tr>\n",
              "    <tr>\n",
              "      <th>512</th>\n",
              "      <td>984</td>\n",
              "      <td>261</td>\n",
              "      <td>Simon Mignolet</td>\n",
              "      <td>Liverpool</td>\n",
              "      <td>30</td>\n",
              "      <td>19</td>\n",
              "      <td>1710</td>\n",
              "      <td>0</td>\n",
              "      <td>0</td>\n",
              "      <td>3</td>\n",
              "      <td>0</td>\n",
              "      <td>-</td>\n",
              "      <td>69.5</td>\n",
              "      <td>0.2</td>\n",
              "      <td>0</td>\n",
              "      <td>6.49</td>\n",
              "      <td>Belgium</td>\n",
              "    </tr>\n",
              "  </tbody>\n",
              "</table>\n",
              "</div>\n",
              "      <button class=\"colab-df-convert\" onclick=\"convertToInteractive('df-0a1ad625-24eb-4c74-b60e-d9f30a66739c')\"\n",
              "              title=\"Convert this dataframe to an interactive table.\"\n",
              "              style=\"display:none;\">\n",
              "        \n",
              "  <svg xmlns=\"http://www.w3.org/2000/svg\" height=\"24px\"viewBox=\"0 0 24 24\"\n",
              "       width=\"24px\">\n",
              "    <path d=\"M0 0h24v24H0V0z\" fill=\"none\"/>\n",
              "    <path d=\"M18.56 5.44l.94 2.06.94-2.06 2.06-.94-2.06-.94-.94-2.06-.94 2.06-2.06.94zm-11 1L8.5 8.5l.94-2.06 2.06-.94-2.06-.94L8.5 2.5l-.94 2.06-2.06.94zm10 10l.94 2.06.94-2.06 2.06-.94-2.06-.94-.94-2.06-.94 2.06-2.06.94z\"/><path d=\"M17.41 7.96l-1.37-1.37c-.4-.4-.92-.59-1.43-.59-.52 0-1.04.2-1.43.59L10.3 9.45l-7.72 7.72c-.78.78-.78 2.05 0 2.83L4 21.41c.39.39.9.59 1.41.59.51 0 1.02-.2 1.41-.59l7.78-7.78 2.81-2.81c.8-.78.8-2.07 0-2.86zM5.41 20L4 18.59l7.72-7.72 1.47 1.35L5.41 20z\"/>\n",
              "  </svg>\n",
              "      </button>\n",
              "      \n",
              "  <style>\n",
              "    .colab-df-container {\n",
              "      display:flex;\n",
              "      flex-wrap:wrap;\n",
              "      gap: 12px;\n",
              "    }\n",
              "\n",
              "    .colab-df-convert {\n",
              "      background-color: #E8F0FE;\n",
              "      border: none;\n",
              "      border-radius: 50%;\n",
              "      cursor: pointer;\n",
              "      display: none;\n",
              "      fill: #1967D2;\n",
              "      height: 32px;\n",
              "      padding: 0 0 0 0;\n",
              "      width: 32px;\n",
              "    }\n",
              "\n",
              "    .colab-df-convert:hover {\n",
              "      background-color: #E2EBFA;\n",
              "      box-shadow: 0px 1px 2px rgba(60, 64, 67, 0.3), 0px 1px 3px 1px rgba(60, 64, 67, 0.15);\n",
              "      fill: #174EA6;\n",
              "    }\n",
              "\n",
              "    [theme=dark] .colab-df-convert {\n",
              "      background-color: #3B4455;\n",
              "      fill: #D2E3FC;\n",
              "    }\n",
              "\n",
              "    [theme=dark] .colab-df-convert:hover {\n",
              "      background-color: #434B5C;\n",
              "      box-shadow: 0px 1px 3px 1px rgba(0, 0, 0, 0.15);\n",
              "      filter: drop-shadow(0px 1px 2px rgba(0, 0, 0, 0.3));\n",
              "      fill: #FFFFFF;\n",
              "    }\n",
              "  </style>\n",
              "\n",
              "      <script>\n",
              "        const buttonEl =\n",
              "          document.querySelector('#df-0a1ad625-24eb-4c74-b60e-d9f30a66739c button.colab-df-convert');\n",
              "        buttonEl.style.display =\n",
              "          google.colab.kernel.accessAllowed ? 'block' : 'none';\n",
              "\n",
              "        async function convertToInteractive(key) {\n",
              "          const element = document.querySelector('#df-0a1ad625-24eb-4c74-b60e-d9f30a66739c');\n",
              "          const dataTable =\n",
              "            await google.colab.kernel.invokeFunction('convertToInteractive',\n",
              "                                                     [key], {});\n",
              "          if (!dataTable) return;\n",
              "\n",
              "          const docLinkHtml = 'Like what you see? Visit the ' +\n",
              "            '<a target=\"_blank\" href=https://colab.research.google.com/notebooks/data_table.ipynb>data table notebook</a>'\n",
              "            + ' to learn more about interactive tables.';\n",
              "          element.innerHTML = '';\n",
              "          dataTable['output_type'] = 'display_data';\n",
              "          await google.colab.output.renderOutput(dataTable, element);\n",
              "          const docLink = document.createElement('div');\n",
              "          docLink.innerHTML = docLinkHtml;\n",
              "          element.appendChild(docLink);\n",
              "        }\n",
              "      </script>\n",
              "    </div>\n",
              "  </div>\n",
              "  "
            ]
          },
          "metadata": {},
          "execution_count": 11
        }
      ]
    },
    {
      "cell_type": "markdown",
      "source": [
        "### Fact :\n",
        "The players present in the Liverpool club belongs to only from European countries and majority of players belongs to England (as this club is based out of England). The only player \"Simon Mignolet\" who has age is above 30 years. "
      ],
      "metadata": {
        "id": "yyDmG1WQPKrh"
      }
    },
    {
      "cell_type": "markdown",
      "source": [
        "### c) Histogram on Goals"
      ],
      "metadata": {
        "id": "xKpnq_s7Pwon"
      }
    },
    {
      "cell_type": "code",
      "source": [
        "\n",
        "df_ms.hist(column='Goals')\n",
        "plt.suptitle(\"Histogram for Goals\")"
      ],
      "metadata": {
        "colab": {
          "base_uri": "https://localhost:8080/",
          "height": 311
        },
        "id": "kZFRX8xVPDML",
        "outputId": "3fe52e24-8d23-422f-91f4-bbda7d60be55"
      },
      "execution_count": 13,
      "outputs": [
        {
          "output_type": "execute_result",
          "data": {
            "text/plain": [
              "Text(0.5, 0.98, 'Histogram for Goals')"
            ]
          },
          "metadata": {},
          "execution_count": 13
        },
        {
          "output_type": "display_data",
          "data": {
            "text/plain": [
              "<Figure size 432x288 with 1 Axes>"
            ],
            "image/png": "[encoded data removed]"
          },
          "metadata": {
            "needs_background": "light"
          }
        }
      ]
    },
    {
      "cell_type": "markdown",
      "source": [
        "#### d) Histogram of the ‘Goals’ and ‘Assists’ on the same axis."
      ],
      "metadata": {
        "id": "fUzVnX_4QePh"
      }
    },
    {
      "cell_type": "code",
      "source": [
        "fig, ax = plt.subplots()\n",
        "## Histogram is created on Goals and Assists by using same axes ax\n",
        "df_ms.hist(column=['Goals'], ax=ax)\n",
        "df_ms.hist(column=['Assists'], ax=ax)\n",
        "plt.suptitle(\"Histogram for Goals and Assists on the same Axis\")"
      ],
      "metadata": {
        "colab": {
          "base_uri": "https://localhost:8080/",
          "height": 311
        },
        "id": "8fboa7-sPuNi",
        "outputId": "0cc7256a-0566-40ad-bc06-cd597756a9fe"
      },
      "execution_count": 14,
      "outputs": [
        {
          "output_type": "execute_result",
          "data": {
            "text/plain": [
              "Text(0.5, 0.98, 'Histogram for Goals and Assists on the same Axis')"
            ]
          },
          "metadata": {},
          "execution_count": 14
        },
        {
          "output_type": "display_data",
          "data": {
            "text/plain": [
              "<Figure size 432x288 with 1 Axes>"
            ],
            "image/png": "[encoded data removed]"
          },
          "metadata": {
            "needs_background": "light"
          }
        }
      ]
    },
    {
      "cell_type": "markdown",
      "source": [
        "### The major assistance is provided to the goal scored between 0-10 and for the players scored 32 goals got no assistance."
      ],
      "metadata": {
        "id": "xxvIHvOHQrEW"
      }
    },
    {
      "cell_type": "markdown",
      "source": [
        "### e) Barchart for most goals scored by nationality."
      ],
      "metadata": {
        "id": "P9ctwHhaRCJy"
      }
    },
    {
      "cell_type": "code",
      "source": [
        "## Grouping data based on nationality and summed up all teh goals\n",
        "grp_data = df_ms.groupby(['nationality']).sum(['Goals']).reset_index()\n",
        "\n",
        "## Created bar graph on nationality and Goals\n",
        "grp_data[['nationality','Goals']].plot.bar(x='nationality', y='Goals', rot=0)\n",
        "plt.suptitle(\"Bar graph for Goals scored by Nationality\")"
      ],
      "metadata": {
        "colab": {
          "base_uri": "https://localhost:8080/",
          "height": 325
        },
        "id": "lz5H4RGSRA98",
        "outputId": "ca409c84-162b-445e-932d-0db53aed3c47"
      },
      "execution_count": 15,
      "outputs": [
        {
          "output_type": "execute_result",
          "data": {
            "text/plain": [
              "Text(0.5, 0.98, 'Bar graph for Goals scored by Nationality')"
            ]
          },
          "metadata": {},
          "execution_count": 15
        },
        {
          "output_type": "display_data",
          "data": {
            "text/plain": [
              "<Figure size 432x288 with 1 Axes>"
            ],
            "image/png": "[encoded data removed]"
          },
          "metadata": {
            "needs_background": "light"
          }
        }
      ]
    },
    {
      "cell_type": "markdown",
      "source": [
        "### On referring to bar graph we can see that Egypt nationals in Liverpool scored higest goals and lowest or zero goal is scored by Belgium Nationals"
      ],
      "metadata": {
        "id": "ozRqafOhRrEF"
      }
    },
    {
      "cell_type": "markdown",
      "source": [
        "### f) Boxplot of ‘Yel’ (yellow cards) by nationality"
      ],
      "metadata": {
        "id": "q3Q3mij-R-a8"
      }
    },
    {
      "cell_type": "code",
      "source": [
        "## data is grouped by nationality and yellow card data is summed up\n",
        "grp_data = df_ms.groupby(['nationality']).sum(['Yel']).reset_index()\n",
        "grp_data[['nationality','Yel']].boxplot(column=['Yel'], by=['nationality'])\n",
        "\n",
        "plt.suptitle(\"Plot for Yellow card by nationality\")"
      ],
      "metadata": {
        "colab": {
          "base_uri": "https://localhost:8080/",
          "height": 319
        },
        "id": "wH5ANoWTR89W",
        "outputId": "6b951c41-ef1b-4696-bffd-6260046c1c83"
      },
      "execution_count": 16,
      "outputs": [
        {
          "output_type": "execute_result",
          "data": {
            "text/plain": [
              "Text(0.5, 0.98, 'Plot for Yellow card by nationality')"
            ]
          },
          "metadata": {},
          "execution_count": 16
        },
        {
          "output_type": "display_data",
          "data": {
            "text/plain": [
              "<Figure size 432x288 with 1 Axes>"
            ],
            "image/png": "[encoded data removed]"
          },
          "metadata": {
            "needs_background": "light"
          }
        }
      ]
    },
    {
      "cell_type": "markdown",
      "source": [
        "### g)‘Goals’ and ‘Assists’ as scatter. "
      ],
      "metadata": {
        "id": "wbhDWZepSIhu"
      }
    },
    {
      "cell_type": "code",
      "source": [
        "## New column is created to indicate favourite club\n",
        "df['is_club'] = [1 if x == 'Liverpool' else 0 for x in df['club']]\n",
        "\n",
        "## is_club is used for color to indicate data of liverpool in the scatter plot\n",
        "df.plot.scatter(x = 'Goals', y = 'Assists', c = 'is_club',colormap='viridis');\n",
        "\n",
        "plt.suptitle(\"Scatter Plot for Goals and Assists \")"
      ],
      "metadata": {
        "colab": {
          "base_uri": "https://localhost:8080/",
          "height": 301
        },
        "id": "Mp7kAJlOSM6J",
        "outputId": "59405798-eb9f-41fc-d86f-ae5e45ca55d2"
      },
      "execution_count": 18,
      "outputs": [
        {
          "output_type": "execute_result",
          "data": {
            "text/plain": [
              "Text(0.5, 0.98, 'Scatter Plot for Goals and Assists ')"
            ]
          },
          "metadata": {},
          "execution_count": 18
        },
        {
          "output_type": "display_data",
          "data": {
            "text/plain": [
              "<Figure size 432x288 with 2 Axes>"
            ],
            "image/png": "[encoded data removed]"
          },
          "metadata": {
            "needs_background": "light"
          }
        }
      ]
    },
    {
      "cell_type": "markdown",
      "source": [
        "### h) Create stacked barplot of goals and assists of French National Team"
      ],
      "metadata": {
        "id": "NjT9ZkO6SL0k"
      }
    },
    {
      "cell_type": "code",
      "source": [
        "## data is filtered for france national\n",
        "df_france = df [df['nationality']=='France']\n",
        "## data is grouped by club and stacked is plotted\n",
        "df_france[['club','Goals','Assists']].groupby(['club']).sum().plot(kind='bar', stacked=True)\n",
        "plt.suptitle(\"Stacked bar Plot for Goals and Assists based French National Team\")"
      ],
      "metadata": {
        "colab": {
          "base_uri": "https://localhost:8080/",
          "height": 415
        },
        "id": "QRm-mAjDSn4w",
        "outputId": "704c0152-1308-43eb-ddfd-e24a9ef80a7a"
      },
      "execution_count": 19,
      "outputs": [
        {
          "output_type": "execute_result",
          "data": {
            "text/plain": [
              "Text(0.5, 0.98, 'Stacked bar Plot for Goals and Assists based French National Team')"
            ]
          },
          "metadata": {},
          "execution_count": 19
        },
        {
          "output_type": "display_data",
          "data": {
            "text/plain": [
              "<Figure size 432x288 with 1 Axes>"
            ],
            "image/png": "[encoded data removed]"
          },
          "metadata": {
            "needs_background": "light"
          }
        }
      ]
    },
    {
      "cell_type": "markdown",
      "source": [
        "### i) Correlation heatmap of the entire dataset."
      ],
      "metadata": {
        "id": "XcupQIh_Swic"
      }
    },
    {
      "cell_type": "code",
      "source": [
        "plt.figure(figsize=(20,20))\n",
        "## Seaborn is used to create heatmap,\n",
        "## the columns unnamed and is_club is removed as they are not required\n",
        "df = df.drop(['Unnamed: 0', 'is_club'], axis=1)\n",
        "## Heat map is created\n",
        "sns.heatmap(df.corr(),annot=True,cmap=\"RdYlGn\")"
      ],
      "metadata": {
        "colab": {
          "base_uri": "https://localhost:8080/",
          "height": 1000
        },
        "id": "N0_I5yoASuwi",
        "outputId": "c3027556-4450-415b-8c89-c6b771d5a582"
      },
      "execution_count": 20,
      "outputs": [
        {
          "output_type": "execute_result",
          "data": {
            "text/plain": [
              "<matplotlib.axes._subplots.AxesSubplot at 0x7f2549296e10>"
            ]
          },
          "metadata": {},
          "execution_count": 20
        },
        {
          "output_type": "display_data",
          "data": {
            "text/plain": [
              "<Figure size 1440x1440 with 2 Axes>"
            ],
            "image/png": "[encoded data removed]"
          },
          "metadata": {
            "needs_background": "light"
          }
        }
      ]
    },
    {
      "cell_type": "markdown",
      "source": [
        "### Assists and Goal has high correlation, similarly Motm and Rating has Correlation , Rating has high correlation with Goals and Assets."
      ],
      "metadata": {
        "id": "oopYdW-ETFrV"
      }
    },
    {
      "cell_type": "markdown",
      "source": [
        "## Question 2:"
      ],
      "metadata": {
        "id": "UAgnhXKATHSH"
      }
    },
    {
      "cell_type": "markdown",
      "source": [
        "### a) It took me 1 day to complete this exam  <br>\n",
        "### b) The hardest section was to create heat map for the correlation, for this section i have to look for  the appropriate library and i found about seaborn.The easiest section was to create histogram for Goals, the direct method in pandas available to create histogram on particular column of the dataset.<br>\n",
        "### c) The visualization which is not clear to me is the stacked bar chart plot for French National Team, as what conclusion we want to drive by using club and Goal, assists for that particular visualization\n"
      ],
      "metadata": {
        "id": "vWoUN45yTLuE"
      }
    },
    {
      "cell_type": "markdown",
      "source": [
        "### I attest that the resources above were the only ones utilized in completing the exam and the work included is my own and no one else from the course"
      ],
      "metadata": {
        "id": "QRwQVmQaTz9R"
      }
    },
    {
      "cell_type": "markdown",
      "source": [
        "#Refrences.\n",
        "#https://pandas.pydata.org/pandas-docs/stable/user_guide/indexing.html\n",
        "#https://stackoverflow.com/questions/39815625/python-pandas-index-object-has-no-attribute-hour \n",
        "#https://www.geeksforgeeks.org\n",
        "#https://github.com/prakha10/data-visualization.github.io/blob/main/Untitled25.ipynb\n",
        "#https://github.com/nurfnick/Data_Viz/blob/main/20_Cleaning_Conclusion.ipynb"
      ],
      "metadata": {
        "id": "8jP6Ge-6T93G"
      }
    }
  ]
}